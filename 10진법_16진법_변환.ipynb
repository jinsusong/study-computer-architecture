{
  "nbformat": 4,
  "nbformat_minor": 0,
  "metadata": {
    "colab": {
      "name": "10진법 16진법 변환.ipynb",
      "private_outputs": true,
      "provenance": [],
      "authorship_tag": "ABX9TyP3KgOIBMxKncjuIsLhMWRh",
      "include_colab_link": true
    },
    "kernelspec": {
      "name": "python3",
      "display_name": "Python 3"
    },
    "language_info": {
      "name": "python"
    }
  },
  "cells": [
    {
      "cell_type": "markdown",
      "metadata": {
        "id": "view-in-github",
        "colab_type": "text"
      },
      "source": [
        "<a href=\"https://colab.research.google.com/github/jinsusong/study-computer-architecture/blob/main/10%EC%A7%84%EB%B2%95_16%EC%A7%84%EB%B2%95_%EB%B3%80%ED%99%98.ipynb\" target=\"_parent\"><img src=\"https://colab.research.google.com/assets/colab-badge.svg\" alt=\"Open In Colab\"/></a>"
      ]
    },
    {
      "cell_type": "markdown",
      "source": [
        "- 진법 변환 \n",
        "\n",
        "- 10진수를 16진수로 변환하기 \n",
        "\n",
        "\n"
      ],
      "metadata": {
        "id": "DKFnTZImLC3N"
      }
    },
    {
      "cell_type": "markdown",
      "source": [
        "![image.png](data:image/png;base64,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)"
      ],
      "metadata": {
        "id": "0au4rxoKLWS_"
      }
    },
    {
      "cell_type": "markdown",
      "source": [
        "- 10진수를 16으로 나눈 나머지를 역순으로 취한다. \n",
        "- 이 때 10 = A , 11 = B, 12 = C , 13 = D , 14 = E ,15 = F , 16= G 등으로 표현\n"
      ],
      "metadata": {
        "id": "4U_mkpkjLWtn"
      }
    }
  ]
}