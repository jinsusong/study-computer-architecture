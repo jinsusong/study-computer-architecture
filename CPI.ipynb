{
  "nbformat": 4,
  "nbformat_minor": 0,
  "metadata": {
    "colab": {
      "name": "CPI.ipynb",
      "private_outputs": true,
      "provenance": [],
      "authorship_tag": "ABX9TyPaddC3rba14PeOssYZvTV1",
      "include_colab_link": true
    },
    "kernelspec": {
      "name": "python3",
      "display_name": "Python 3"
    },
    "language_info": {
      "name": "python"
    }
  },
  "cells": [
    {
      "cell_type": "markdown",
      "metadata": {
        "id": "view-in-github",
        "colab_type": "text"
      },
      "source": [
        "<a href=\"https://colab.research.google.com/github/jinsusong/study-computer-architecture/blob/main/CPI.ipynb\" target=\"_parent\"><img src=\"https://colab.research.google.com/assets/colab-badge.svg\" alt=\"Open In Colab\"/></a>"
      ]
    },
    {
      "cell_type": "markdown",
      "source": [
        "average CPI : 평균 CPI는 해당 명령어에 대한 CPI의 각 명령어에 해당 명령어가 사용된 시간의 비율을 곱한 합계\n",
        "\n",
        "\n",
        "\n",
        "CPU Time = Cycle time ∗Instruction Count ∗ Average CPI\n",
        "\n",
        "\n",
        "\n"
      ],
      "metadata": {
        "id": "SAg8HcomF1kU"
      }
    }
  ]
}