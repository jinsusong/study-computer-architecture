{
  "nbformat": 4,
  "nbformat_minor": 0,
  "metadata": {
    "colab": {
      "name": "MIPS.ipynb",
      "private_outputs": true,
      "provenance": [],
      "authorship_tag": "ABX9TyMh5Miuk3B+8gR0VmxRp37Z",
      "include_colab_link": true
    },
    "kernelspec": {
      "name": "python3",
      "display_name": "Python 3"
    },
    "language_info": {
      "name": "python"
    }
  },
  "cells": [
    {
      "cell_type": "markdown",
      "metadata": {
        "id": "view-in-github",
        "colab_type": "text"
      },
      "source": [
        "<a href=\"https://colab.research.google.com/github/jinsusong/study-computer-architecture/blob/main/MIPS.ipynb\" target=\"_parent\"><img src=\"https://colab.research.google.com/assets/colab-badge.svg\" alt=\"Open In Colab\"/></a>"
      ]
    },
    {
      "cell_type": "markdown",
      "source": [
        "1. 명령을 16진수 8자리 숫자 변환 \n",
        "2. 생성된 MIPS 기계어를 표현 (0x는 생략)\n",
        "3. 조립에러가 발생하면 '에러 발생' & 사유 작성 "
      ],
      "metadata": {
        "id": "NfgtZJeVd2Yz"
      }
    },
    {
      "cell_type": "markdown",
      "source": [
        "- 컴퓨터와 사람의 소통 3단계 \n",
        "1. High - Level\n",
        "    - compile : 1을 2로 변환 시키는 것 \n",
        "2. Assembly\n",
        "    - aessembler : 2를 3으로 변환 시키는 것 \n",
        "3. Binary \n"
      ],
      "metadata": {
        "id": "OADPMn5yeF4R"
      }
    },
    {
      "cell_type": "markdown",
      "source": [
        "- MIPS Assembly Language 단계\n",
        "    - ex) add $t0, $s1, $s2 이면 \n",
        "    - $t0 = $s1 + $s2 이다. \n",
        "    - s1과 s2를 더해서 t0에 저장하라는 뜻\n",
        "\n",
        "\n"
      ],
      "metadata": {
        "id": "RzmM7Vk5fSz0"
      }
    },
    {
      "cell_type": "markdown",
      "source": [
        ""
      ],
      "metadata": {
        "id": "SpPuoRRDfr8S"
      }
    },
    {
      "cell_type": "markdown",
      "source": [
        "출처 : https://inyongs.tistory.com/121"
      ],
      "metadata": {
        "id": "BfDKEwoYfoag"
      }
    }
  ]
}